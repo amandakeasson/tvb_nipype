{
 "cells": [
  {
   "cell_type": "code",
   "execution_count": null,
   "metadata": {
    "collapsed": true
   },
   "outputs": [],
   "source": [
    "### we probably don't need this cell\n",
    "\n",
    "def tvb_make_sim_file(pse_name, subj_list, param1_name, param1_min, param1_max, param1_num, param2_name, param2_min, param2_max, param2_num):\n",
    "    import numpy as np\n",
    "    f = open('sim_info_' + pse_name + '.txt', 'write')\n",
    "    f.write('SUBJECTS: \\t' + subj_list + '\\n')\n",
    "    f.write('Parameter 1: \\t' + param1_name + '\\n')\n",
    "    f.write('Parameter 2: \\t' + param2_name + '\\n')\n",
    "    f.close()\n",
    "    p1 = np.linspace(param1_min, param1_max, param1_num)\n",
    "    p2 = np.linspace(param2_min, param2_max, param2_num)\n",
    "    np.savetxt('sim_params_' + pse_name + '_param1.txt', p1, fmt='%.4f', delimiter=' ', newline='\\n')\n",
    "    np.savetxt('sim_params_' + pse_name + '_param2.txt', p2, fmt='%.4f', delimiter=' ', newline='\\n')\n",
    "    "
   ]
  },
  {
   "cell_type": "code",
   "execution_count": 1,
   "metadata": {
    "collapsed": true
   },
   "outputs": [],
   "source": [
    "# https://groups.google.com/forum/#!topic/tvb-users/ODsL9bkGLHQ\n",
    "\n",
    "import warnings\n",
    "warnings.filterwarnings('ignore')\n",
    "import os, sys, scipy.io, numpy as np\n",
    "from nipype import Node, Function, Workflow\n",
    "#from tvb.simulator.lab import *\n",
    "\n",
    "cwd = os.getcwd()\n",
    "\n",
    "# https://miykael.github.io/nipype_tutorial/notebooks/basic_workflow.html\n",
    "\n",
    "# done\n",
    "def make_pse(parameter_ranges): # done, need to wrap\n",
    "    import numpy as np\n",
    "    pse_list = dict(parameter_ranges)\n",
    "    return pse_list\n",
    "\n",
    "def make_model(model_name, parameters):# done\n",
    "    import warnings, pickle, os\n",
    "    warnings.filterwarnings('ignore')\n",
    "    from tvb.simulator.lab import models\n",
    "    import numpy as np\n",
    "    mod = getattr(models, model_name)\n",
    "    model_class = mod(**dict(parameters))\n",
    "    pickle.dump(model_class, open(\"model_class.p\", \"wb\"))\n",
    "    model_class = os.path.abspath(\"model_class.p\")\n",
    "    return model_class\n",
    "\n",
    "def load_connectivity_mat(in_file, normalize=False):\n",
    "    import scipy.io, pickle, os\n",
    "    datamat = scipy.io.loadmat(in_file)\n",
    "    sc_weights = datamat['sc_weights']\n",
    "    if normalize:\n",
    "        sc_weights = sc_weights / sc_weights.max()\n",
    "    tract_lengths = datamat['tract_lengths']\n",
    "    scipy.io.savemat('sc_weights.mat',{'sc_weights': sc_weights})\n",
    "    scipy.io.savemat('tract_lengths.mat',{'tract_lengths': tract_lengths})\n",
    "    sc_weights = os.path.abspath(\"sc_weights.mat\")\n",
    "    tract_lengths = os.path.abspath(\"tract_lengths.mat\")\n",
    "    return sc_weights, tract_lengths\n",
    "    \n",
    "def make_connectivity(weights, lengths):\n",
    "    import warnings, pickle, os, scipy.io\n",
    "    warnings.filterwarnings('ignore')\n",
    "    weights_mat = scipy.io.loadmat(weights); weights = weights_mat['sc_weights']\n",
    "    lengths_mat = scipy.io.loadmat(lengths); lengths = lengths_mat['tract_lengths']\n",
    "    from tvb.simulator.lab import connectivity\n",
    "    conn_class = connectivity.Connectivity(weights=weights, tract_lengths=lengths)\n",
    "    pickle.dump(conn_class, open(\"conn_class.p\", \"wb\"))\n",
    "    conn_class = os.path.abspath(\"conn_class.p\")\n",
    "    return conn_class\n",
    "\n",
    "def make_integrator(integrator_name, base_dt, noise_type, noise_val):\n",
    "    import sys, numpy, warnings, pickle, os\n",
    "    warnings.filterwarnings('ignore')\n",
    "    sys.modules['mtrand'] = numpy.random.mtrand \n",
    "    from tvb.simulator.lab import integrators #, noise\n",
    "    temp_integrator = getattr(integrators,integrator_name)\n",
    "    #temp_noise = getattr(noise, noise_type)\n",
    "    #noise = temp_noise(nsig = np.array(noise_val))\n",
    "    # integrator_class = temp_integrator(dt = base_dt, noise = noise)\n",
    "    integrator_class = temp_integrator(dt = base_dt)\n",
    "    pickle.dump(integrator_class, open(\"integrator_class.p\", \"wb\"))\n",
    "    integrator_class = os.path.abspath(\"integrator_class.p\")\n",
    "    return integrator_class\n",
    "\n",
    "def make_monitors(monitor_types, periods):\n",
    "    import warnings, sys, numpy, pickle, os\n",
    "    warnings.filterwarnings('ignore')\n",
    "    sys.modules['mtrand'] = numpy.random.mtrand\n",
    "    from tvb.simulator.lab import monitors\n",
    "        \n",
    "    monitor_class = []\n",
    "    for i in range(len(monitor_types)):\n",
    "        monitor_tmp = getattr(monitors,monitor_types[i])\n",
    "        monitor_tmp2 = monitor_tmp(period = periods[i])\n",
    "        monitor_class.append(monitor_tmp2)\n",
    "        \n",
    "    monitor_class = tuple(monitor_class)\n",
    "\n",
    "    pickle.dump(monitor_class, open(\"monitor_class.p\", \"wb\"))\n",
    "    monitor_class = os.path.abspath(\"monitor_class.p\")\n",
    "    return monitor_class\n",
    "\n",
    "\n",
    "def run_simulation(out_file, model_input, conn_input, integrator_input, monitor_input, global_coupling = 0.1, conduction_speed=3.0, simulation_length=10000.0):\n",
    "    import warnings, sys, numpy, pickle, os, scipy.io\n",
    "    warnings.filterwarnings('ignore')\n",
    "    sys.modules['mtrand'] = numpy.random.mtrand\n",
    "    \n",
    "    model_input = pickle.load(open(model_input, \"rb\"))\n",
    "    conn_input = pickle.load(open(conn_input, \"rb\"))\n",
    "    integrator_input = pickle.load(open(integrator_input, \"rb\"))\n",
    "    monitor_input = pickle.load(open(monitor_input, \"rb\"))\n",
    "\n",
    "    from tvb.simulator.lab import *\n",
    "    wm_coupling = coupling.Linear(a = global_coupling)\n",
    "    \n",
    "    # testing things # fix this\n",
    "    # monitor_input = (monitors.Bold(period=2000.0), monitors.TemporalAverage(period=10.0), monitors.ProgressLogger(period=10000.0))\n",
    "    # monitor_input = (monitors.Bold(period=2000.0), monitors.TemporalAverage(period=10.0))\n",
    "    \n",
    "    sim = simulator.Simulator(model = model_input, connectivity = conn_input, coupling = wm_coupling,\n",
    "                             integrator = integrator_input, monitors = monitor_input,\n",
    "                             simulation_length = simulation_length, conduction_speed = conduction_speed)\n",
    "    \n",
    "    sim.configure()\n",
    "    #(bold_time, bold_data), (tavg_time, tavg_data) = sim.run()\n",
    "    sim_output = sim.run()\n",
    "    # numpy.save(out_file, data)\n",
    "    scipy.io.savemat('sim_output.mat',{'sim_output': sim_output})\n",
    "    abs_out_file = os.path.abspath(\"sim_output.mat\") # fix this\n",
    "    return abs_out_file\n",
    "\n",
    "##### NIPYPE PORTION\n",
    "# https://miykael.github.io/nipype_tutorial/notebooks/basic_function_interface.html\n",
    "\n",
    "pse_params = Node(\n",
    "    Function(\n",
    "        input_names=['parameter_ranges'],\n",
    "        output_names=['model_class'],\n",
    "        function=make_pse\n",
    "    ),\n",
    "    name='create_pse'\n",
    ")\n",
    "\n",
    "model = Node(\n",
    "    Function(\n",
    "        input_names=['model_name', 'parameters'],\n",
    "        output_names=['model_class'],\n",
    "        function=make_model\n",
    "    ),\n",
    "    name='create_model'\n",
    ")\n",
    " \n",
    "sc_loader = Node(\n",
    "    Function(\n",
    "        input_names=['in_file', 'normalize'],\n",
    "        output_names=['sc_weights', 'tract_lengths'],\n",
    "        function=load_connectivity_mat\n",
    "    ),\n",
    "    name='load_sc_mat'\n",
    ")\n",
    "\n",
    "sc = Node(\n",
    "    Function(\n",
    "        input_names=['weights', 'lengths'],\n",
    "        output_names=['conn_class'],\n",
    "        function=make_connectivity\n",
    "    ),\n",
    "    name='create_sc'\n",
    ")\n",
    "\n",
    "integrator = Node(\n",
    "    Function(\n",
    "        input_names=['integrator_name','base_dt','noise_type','noise_val'],\n",
    "        output_names=['integrator_class'],\n",
    "        function=make_integrator\n",
    "    ),\n",
    "    name='create_integrator'\n",
    ")\n",
    "\n",
    "monitors = Node(\n",
    "    Function(\n",
    "        input_names=['monitor_types','periods'],\n",
    "        output_names=['monitor_class'],\n",
    "        function=make_monitors\n",
    "    ),\n",
    "    name='create_monitors'\n",
    ")\n",
    "\n",
    "simulate = Node(\n",
    "    Function(\n",
    "        input_names=['out_file', 'model_input', 'conn_input', 'integrator_input', 'monitor_input',\n",
    "                     'global_coupling', 'conduction_speed', 'simulation_length'],\n",
    "        output_names=['abs_out_file'],\n",
    "        function=run_simulation\n",
    "    ),\n",
    "    name='create_simulation'\n",
    ")\n",
    "\n"
   ]
  },
  {
   "cell_type": "code",
   "execution_count": 2,
   "metadata": {
    "collapsed": true
   },
   "outputs": [],
   "source": [
    "# https://miykael.github.io/nipype_tutorial/notebooks/basic_workflow.html\n",
    "workflow = Workflow(name='tvb_demo', base_dir=os.getcwd())\n",
    "workflow.connect([\n",
    "    (model, simulate, [(\"model_class\", \"model_input\")]),\n",
    "    (sc_loader, sc, [(\"sc_weights\", \"weights\"), (\"tract_lengths\", \"lengths\")]),\n",
    "    (sc, simulate, [(\"conn_class\", \"conn_input\")]),\n",
    "    (integrator, simulate, [(\"integrator_class\", \"integrator_input\")]),\n",
    "    (monitors, simulate, [(\"monitor_class\", \"monitor_input\")])\n",
    "])\n",
    "\n",
    "\n",
    "# NOW DEFINE YOUR INPUTS\n",
    "# https://miykael.github.io/nipype_tutorial/notebooks/basic_data_input.html\n",
    "model.inputs.model_name = 'Generic2dOscillator'\n",
    "model.inputs.parameters = [('a',1), ('b',1)]\n",
    "# https://miykael.github.io/nipype_tutorial/notebooks/basic_iteration.html\n",
    "# workflow.model.iterables = ('parameters', [4, 8, 16])\n",
    "sc_loader.inputs.in_file = cwd + '/input/sub-01_connectivity.mat'\n",
    "sc_loader.inputs.normalize = False \n",
    "integrator.inputs.integrator_name = 'HeunStochastic'\n",
    "integrator.inputs.base_dt = 0.1\n",
    "integrator.inputs.noise_type = 'Additive'\n",
    "integrator.inputs.noise_val = 0.0001\n",
    "#workflow.integrator.iterables = ('noise', [1, 2, 3, 4])\n",
    "monitors.inputs.monitor_types = ['Bold', 'TemporalAverage']\n",
    "monitors.inputs.periods = [2000.0, 10.0]\n",
    "simulate.inputs.out_file = cwd + '/tvb_test1.mat'\n",
    "simulate.inputs.global_coupling = 0.1\n",
    "simulate.inputs.conduction_speed = 2.0\n",
    "simulate.inputs.simulation_length = 10000.0\n",
    "\n",
    "# ^ move constants to top node; have initial node with subject list \n",
    "# make datasink at the end to clean things up \n",
    "#def run_simulation(out_file, model_input, conn_input, integrator_input, monitor_input, global_coupling = 0.1, conduction_speed=2.0, simulation_length=1000.0):\n"
   ]
  },
  {
   "cell_type": "code",
   "execution_count": 3,
   "metadata": {},
   "outputs": [
    {
     "ename": "IOError",
     "evalue": "No command \"dot\" found on host Ludus. Please check that the corresponding package is installed.",
     "output_type": "error",
     "traceback": [
      "\u001b[0;31m---------------------------------------------------------------------------\u001b[0m",
      "\u001b[0;31mIOError\u001b[0m                                   Traceback (most recent call last)",
      "\u001b[0;32m<ipython-input-3-d2d2d1bc36a7>\u001b[0m in \u001b[0;36m<module>\u001b[0;34m()\u001b[0m\n\u001b[1;32m      1\u001b[0m \u001b[0;31m# Write graph of type orig\u001b[0m\u001b[0;34m\u001b[0m\u001b[0;34m\u001b[0m\u001b[0m\n\u001b[0;32m----> 2\u001b[0;31m \u001b[0mworkflow\u001b[0m\u001b[0;34m.\u001b[0m\u001b[0mwrite_graph\u001b[0m\u001b[0;34m(\u001b[0m\u001b[0mgraph2use\u001b[0m\u001b[0;34m=\u001b[0m\u001b[0;34m'orig'\u001b[0m\u001b[0;34m,\u001b[0m \u001b[0mdotfilename\u001b[0m\u001b[0;34m=\u001b[0m\u001b[0;34m'./graph_orig.dot'\u001b[0m\u001b[0;34m)\u001b[0m\u001b[0;34m\u001b[0m\u001b[0m\n\u001b[0m\u001b[1;32m      3\u001b[0m \u001b[0;34m\u001b[0m\u001b[0m\n\u001b[1;32m      4\u001b[0m \u001b[0;31m# Visualize graph\u001b[0m\u001b[0;34m\u001b[0m\u001b[0;34m\u001b[0m\u001b[0m\n\u001b[1;32m      5\u001b[0m \u001b[0;32mfrom\u001b[0m \u001b[0mIPython\u001b[0m\u001b[0;34m.\u001b[0m\u001b[0mdisplay\u001b[0m \u001b[0;32mimport\u001b[0m \u001b[0mImage\u001b[0m\u001b[0;34m\u001b[0m\u001b[0m\n",
      "\u001b[0;32m/home/axiezai/miniconda3/envs/tvbenv/lib/python2.7/site-packages/nipype/pipeline/engine/workflows.pyc\u001b[0m in \u001b[0;36mwrite_graph\u001b[0;34m(self, dotfilename, graph2use, format, simple_form)\u001b[0m\n\u001b[1;32m    440\u001b[0m                 \u001b[0mdotfilename\u001b[0m\u001b[0;34m=\u001b[0m\u001b[0mdotfilename\u001b[0m\u001b[0;34m,\u001b[0m\u001b[0;34m\u001b[0m\u001b[0m\n\u001b[1;32m    441\u001b[0m                 \u001b[0mformat\u001b[0m\u001b[0;34m=\u001b[0m\u001b[0mformat\u001b[0m\u001b[0;34m,\u001b[0m\u001b[0;34m\u001b[0m\u001b[0m\n\u001b[0;32m--> 442\u001b[0;31m                 simple_form=simple_form)\n\u001b[0m\u001b[1;32m    443\u001b[0m \u001b[0;34m\u001b[0m\u001b[0m\n\u001b[1;32m    444\u001b[0m         logger.info(\n",
      "\u001b[0;32m/home/axiezai/miniconda3/envs/tvbenv/lib/python2.7/site-packages/nipype/pipeline/engine/utils.pyc\u001b[0m in \u001b[0;36mexport_graph\u001b[0;34m(graph_in, base_dir, show, use_execgraph, show_connectinfo, dotfilename, format, simple_form)\u001b[0m\n\u001b[1;32m   1299\u001b[0m \u001b[0;34m\u001b[0m\u001b[0m\n\u001b[1;32m   1300\u001b[0m     \u001b[0;31m# Convert .dot if format != 'dot'\u001b[0m\u001b[0;34m\u001b[0m\u001b[0;34m\u001b[0m\u001b[0m\n\u001b[0;32m-> 1301\u001b[0;31m     \u001b[0moutfname\u001b[0m\u001b[0;34m,\u001b[0m \u001b[0mres\u001b[0m \u001b[0;34m=\u001b[0m \u001b[0m_run_dot\u001b[0m\u001b[0;34m(\u001b[0m\u001b[0mout_dot\u001b[0m\u001b[0;34m,\u001b[0m \u001b[0mformat_ext\u001b[0m\u001b[0;34m=\u001b[0m\u001b[0mformat\u001b[0m\u001b[0;34m)\u001b[0m\u001b[0;34m\u001b[0m\u001b[0m\n\u001b[0m\u001b[1;32m   1302\u001b[0m     \u001b[0;32mif\u001b[0m \u001b[0mres\u001b[0m \u001b[0;32mis\u001b[0m \u001b[0;32mnot\u001b[0m \u001b[0mNone\u001b[0m \u001b[0;32mand\u001b[0m \u001b[0mres\u001b[0m\u001b[0;34m.\u001b[0m\u001b[0mruntime\u001b[0m\u001b[0;34m.\u001b[0m\u001b[0mreturncode\u001b[0m\u001b[0;34m:\u001b[0m\u001b[0;34m\u001b[0m\u001b[0m\n\u001b[1;32m   1303\u001b[0m         \u001b[0mlogger\u001b[0m\u001b[0;34m.\u001b[0m\u001b[0mwarning\u001b[0m\u001b[0;34m(\u001b[0m\u001b[0;34m'dot2png: %s'\u001b[0m\u001b[0;34m,\u001b[0m \u001b[0mres\u001b[0m\u001b[0;34m.\u001b[0m\u001b[0mruntime\u001b[0m\u001b[0;34m.\u001b[0m\u001b[0mstderr\u001b[0m\u001b[0;34m)\u001b[0m\u001b[0;34m\u001b[0m\u001b[0m\n",
      "\u001b[0;32m/home/axiezai/miniconda3/envs/tvbenv/lib/python2.7/site-packages/nipype/pipeline/engine/utils.pyc\u001b[0m in \u001b[0;36m_run_dot\u001b[0;34m(dotfilename, format_ext)\u001b[0m\n\u001b[1;32m   1342\u001b[0m     \u001b[0mcmd\u001b[0m \u001b[0;34m=\u001b[0m \u001b[0;34m'dot -T{} -o\"{}\" \"{}\"'\u001b[0m\u001b[0;34m.\u001b[0m\u001b[0mformat\u001b[0m\u001b[0;34m(\u001b[0m\u001b[0mformat_ext\u001b[0m\u001b[0;34m,\u001b[0m \u001b[0mformatted_dot\u001b[0m\u001b[0;34m,\u001b[0m \u001b[0mdotfilename\u001b[0m\u001b[0;34m)\u001b[0m\u001b[0;34m\u001b[0m\u001b[0m\n\u001b[1;32m   1343\u001b[0m     res = CommandLine(cmd, terminal_output='allatonce',\n\u001b[0;32m-> 1344\u001b[0;31m                       resource_monitor=False).run()\n\u001b[0m\u001b[1;32m   1345\u001b[0m     \u001b[0;32mreturn\u001b[0m \u001b[0mformatted_dot\u001b[0m\u001b[0;34m,\u001b[0m \u001b[0mres\u001b[0m\u001b[0;34m\u001b[0m\u001b[0m\n\u001b[1;32m   1346\u001b[0m \u001b[0;34m\u001b[0m\u001b[0m\n",
      "\u001b[0;32m/home/axiezai/miniconda3/envs/tvbenv/lib/python2.7/site-packages/nipype/interfaces/base/core.pyc\u001b[0m in \u001b[0;36mrun\u001b[0;34m(self, cwd, ignore_exception, **inputs)\u001b[0m\n\u001b[1;32m    519\u001b[0m         \u001b[0;32mtry\u001b[0m\u001b[0;34m:\u001b[0m\u001b[0;34m\u001b[0m\u001b[0m\n\u001b[1;32m    520\u001b[0m             \u001b[0mruntime\u001b[0m \u001b[0;34m=\u001b[0m \u001b[0mself\u001b[0m\u001b[0;34m.\u001b[0m\u001b[0m_pre_run_hook\u001b[0m\u001b[0;34m(\u001b[0m\u001b[0mruntime\u001b[0m\u001b[0;34m)\u001b[0m\u001b[0;34m\u001b[0m\u001b[0m\n\u001b[0;32m--> 521\u001b[0;31m             \u001b[0mruntime\u001b[0m \u001b[0;34m=\u001b[0m \u001b[0mself\u001b[0m\u001b[0;34m.\u001b[0m\u001b[0m_run_interface\u001b[0m\u001b[0;34m(\u001b[0m\u001b[0mruntime\u001b[0m\u001b[0;34m)\u001b[0m\u001b[0;34m\u001b[0m\u001b[0m\n\u001b[0m\u001b[1;32m    522\u001b[0m             \u001b[0mruntime\u001b[0m \u001b[0;34m=\u001b[0m \u001b[0mself\u001b[0m\u001b[0;34m.\u001b[0m\u001b[0m_post_run_hook\u001b[0m\u001b[0;34m(\u001b[0m\u001b[0mruntime\u001b[0m\u001b[0;34m)\u001b[0m\u001b[0;34m\u001b[0m\u001b[0m\n\u001b[1;32m    523\u001b[0m             \u001b[0moutputs\u001b[0m \u001b[0;34m=\u001b[0m \u001b[0mself\u001b[0m\u001b[0;34m.\u001b[0m\u001b[0maggregate_outputs\u001b[0m\u001b[0;34m(\u001b[0m\u001b[0mruntime\u001b[0m\u001b[0;34m)\u001b[0m\u001b[0;34m\u001b[0m\u001b[0m\n",
      "\u001b[0;32m/home/axiezai/miniconda3/envs/tvbenv/lib/python2.7/site-packages/nipype/interfaces/base/core.pyc\u001b[0m in \u001b[0;36m_run_interface\u001b[0;34m(self, runtime, correct_return_codes)\u001b[0m\n\u001b[1;32m   1022\u001b[0m                 \u001b[0;34m'No command \"%s\" found on host %s. Please check that the '\u001b[0m\u001b[0;34m\u001b[0m\u001b[0m\n\u001b[1;32m   1023\u001b[0m                 'corresponding package is installed.' % (executable_name,\n\u001b[0;32m-> 1024\u001b[0;31m                                                          runtime.hostname))\n\u001b[0m\u001b[1;32m   1025\u001b[0m \u001b[0;34m\u001b[0m\u001b[0m\n\u001b[1;32m   1026\u001b[0m         \u001b[0mruntime\u001b[0m\u001b[0;34m.\u001b[0m\u001b[0mcommand_path\u001b[0m \u001b[0;34m=\u001b[0m \u001b[0mcmd_path\u001b[0m\u001b[0;34m\u001b[0m\u001b[0m\n",
      "\u001b[0;31mIOError\u001b[0m: No command \"dot\" found on host Ludus. Please check that the corresponding package is installed."
     ]
    }
   ],
   "source": [
    "# Write graph of type orig\n",
    "workflow.write_graph(graph2use='orig', dotfilename='./graph_orig.dot')\n",
    "\n",
    "# Visualize graph\n",
    "from IPython.display import Image\n",
    "Image(filename=\"graph_orig.png\")"
   ]
  },
  {
   "cell_type": "code",
   "execution_count": 4,
   "metadata": {
    "scrolled": true
   },
   "outputs": [
    {
     "name": "stdout",
     "output_type": "stream",
     "text": [
      "180809-16:27:05,333 nipype.workflow INFO:\n",
      "\t Workflow tvb_demo settings: ['check', 'execution', 'logging', 'monitoring']\n",
      "180809-16:27:05,345 nipype.workflow INFO:\n",
      "\t Running serially.\n",
      "180809-16:27:05,347 nipype.workflow INFO:\n",
      "\t [Node] Setting-up \"tvb_demo.load_sc_mat\" in \"/home/axiezai/neuroha2018/tvb_nipype/tvb_demo/load_sc_mat\".\n",
      "180809-16:27:05,357 nipype.workflow INFO:\n",
      "\t [Node] Running \"load_sc_mat\" (\"nipype.interfaces.utility.wrappers.Function\")\n",
      "180809-16:27:05,376 nipype.workflow INFO:\n",
      "\t [Node] Finished \"tvb_demo.load_sc_mat\".\n",
      "180809-16:27:05,378 nipype.workflow INFO:\n",
      "\t [Node] Setting-up \"tvb_demo.create_sc\" in \"/home/axiezai/neuroha2018/tvb_nipype/tvb_demo/create_sc\".\n",
      "180809-16:27:05,391 nipype.workflow INFO:\n",
      "\t [Node] Running \"create_sc\" (\"nipype.interfaces.utility.wrappers.Function\")\n",
      "180809-16:27:07,743 nipype.workflow INFO:\n",
      "\t [Node] Finished \"tvb_demo.create_sc\".\n",
      "180809-16:27:07,747 nipype.workflow INFO:\n",
      "\t [Node] Setting-up \"tvb_demo.create_model\" in \"/home/axiezai/neuroha2018/tvb_nipype/tvb_demo/create_model\".\n",
      "180809-16:27:07,753 nipype.workflow INFO:\n",
      "\t [Node] Running \"create_model\" (\"nipype.interfaces.utility.wrappers.Function\")\n",
      "180809-16:27:07,804 nipype.workflow INFO:\n",
      "\t [Node] Finished \"tvb_demo.create_model\".\n",
      "180809-16:27:07,806 nipype.workflow INFO:\n",
      "\t [Node] Setting-up \"tvb_demo.create_monitors\" in \"/home/axiezai/neuroha2018/tvb_nipype/tvb_demo/create_monitors\".\n",
      "180809-16:27:07,815 nipype.workflow INFO:\n",
      "\t [Node] Running \"create_monitors\" (\"nipype.interfaces.utility.wrappers.Function\")\n",
      "180809-16:27:07,838 nipype.workflow INFO:\n",
      "\t [Node] Finished \"tvb_demo.create_monitors\".\n",
      "180809-16:27:07,844 nipype.workflow INFO:\n",
      "\t [Node] Setting-up \"tvb_demo.create_integrator\" in \"/home/axiezai/neuroha2018/tvb_nipype/tvb_demo/create_integrator\".\n",
      "180809-16:27:07,855 nipype.workflow INFO:\n",
      "\t [Node] Running \"create_integrator\" (\"nipype.interfaces.utility.wrappers.Function\")\n",
      "180809-16:27:07,884 nipype.workflow INFO:\n",
      "\t [Node] Finished \"tvb_demo.create_integrator\".\n",
      "180809-16:27:07,886 nipype.workflow INFO:\n",
      "\t [Node] Setting-up \"tvb_demo.create_simulation\" in \"/home/axiezai/neuroha2018/tvb_nipype/tvb_demo/create_simulation\".\n",
      "180809-16:27:07,911 nipype.workflow INFO:\n",
      "\t [Node] Running \"create_simulation\" (\"nipype.interfaces.utility.wrappers.Function\")\n",
      "180809-16:27:36,191 nipype.workflow INFO:\n",
      "\t [Node] Finished \"tvb_demo.create_simulation\".\n",
      "<networkx.classes.digraph.DiGraph object at 0x7f5a5c185e10>\n"
     ]
    }
   ],
   "source": [
    "#workflow.run('MultiProc', plugin_args={'n_procs': 10})\n",
    "# import sys, pickle, numpy\n",
    "# sys.modules['mtrand'] = numpy.random.mtrand\n",
    "workflow.run()"
   ]
  },
  {
   "cell_type": "code",
   "execution_count": null,
   "metadata": {},
   "outputs": [],
   "source": [
    "!nipypecli crash crash-20180809-160454-axiezai-create_simulation-847abe4c-878d-45a5-b9fb-51fc627925f8.pklz"
   ]
  },
  {
   "cell_type": "code",
   "execution_count": null,
   "metadata": {
    "collapsed": true
   },
   "outputs": [],
   "source": [
    "def make_monitors(monitor_types, periods):\n",
    "    import warnings, sys, numpy, pickle, os\n",
    "    warnings.filterwarnings('ignore')\n",
    "    sys.modules['mtrand'] = numpy.random.mtrand\n",
    "    from tvb.simulator.lab import monitors\n",
    "    \n",
    "    monitor_class = []\n",
    "    for i in range(len(monitor_types)):\n",
    "        monitor_tmp = getattr(monitors,monitor_types[i])\n",
    "        monitor_tmp2 = monitor_tmp(period = periods[i])\n",
    "        monitor_class.append(monitor_tmp2)\n",
    "        \n",
    "    monitor_class = tuple(monitor_class)\n",
    "    \n",
    "    return monitor_class"
   ]
  },
  {
   "cell_type": "code",
   "execution_count": null,
   "metadata": {
    "collapsed": true
   },
   "outputs": [],
   "source": [
    "monitor_class = make_monitors(['Bold', 'TemporalAverage'],[2000.0, 10.0])"
   ]
  },
  {
   "cell_type": "code",
   "execution_count": null,
   "metadata": {
    "collapsed": true
   },
   "outputs": [],
   "source": [
    "monitor_class"
   ]
  },
  {
   "cell_type": "code",
   "execution_count": null,
   "metadata": {},
   "outputs": [],
   "source": [
    "from tvb.simulator.lab import *\n",
    "monitor_input = (monitors.Bold(period=2000.0), monitors.TemporalAverage(period=10.0))\n",
    "monitor_input    "
   ]
  },
  {
   "cell_type": "code",
   "execution_count": null,
   "metadata": {
    "collapsed": true
   },
   "outputs": [],
   "source": [
    "import pickle\n",
    "pickle.dump(monitor_class, open(\"monitor_class.p\", \"wb\"))"
   ]
  },
  {
   "cell_type": "code",
   "execution_count": null,
   "metadata": {
    "collapsed": true
   },
   "outputs": [],
   "source": [
    "import pickle\n",
    "monitor_input = pickle.load(open('/mnt/c/Users/easso/docs/neurohackademy/tvb_nipype/tvb_demo/create_monitors/monitor_class.p', \"rb\"))"
   ]
  },
  {
   "cell_type": "code",
   "execution_count": null,
   "metadata": {},
   "outputs": [],
   "source": [
    "monitor_input"
   ]
  },
  {
   "cell_type": "code",
   "execution_count": null,
   "metadata": {},
   "outputs": [],
   "source": [
    "simulate.outputs\n"
   ]
  },
  {
   "cell_type": "code",
   "execution_count": null,
   "metadata": {},
   "outputs": [],
   "source": [
    "import scipy.io"
   ]
  },
  {
   "cell_type": "code",
   "execution_count": null,
   "metadata": {
    "collapsed": true
   },
   "outputs": [],
   "source": [
    "data = scipy.io.loadmat('/home/axiezai/neuroha2018/tvb_nipype/tvb_demo/create_simulation/sim_data.mat')"
   ]
  },
  {
   "cell_type": "code",
   "execution_count": null,
   "metadata": {},
   "outputs": [],
   "source": [
    "data = data['data']\n"
   ]
  },
  {
   "cell_type": "code",
   "execution_count": null,
   "metadata": {},
   "outputs": [],
   "source": [
    "data[0][1].shape"
   ]
  },
  {
   "cell_type": "code",
   "execution_count": null,
   "metadata": {
    "collapsed": true
   },
   "outputs": [],
   "source": []
  }
 ],
 "metadata": {
  "kernelspec": {
   "display_name": "Python 2",
   "language": "python",
   "name": "python2"
  },
  "language_info": {
   "codemirror_mode": {
    "name": "ipython",
    "version": 2
   },
   "file_extension": ".py",
   "mimetype": "text/x-python",
   "name": "python",
   "nbconvert_exporter": "python",
   "pygments_lexer": "ipython2",
   "version": "2.7.13"
  }
 },
 "nbformat": 4,
 "nbformat_minor": 2
}
