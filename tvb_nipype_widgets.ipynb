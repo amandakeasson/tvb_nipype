{
 "cells": [
  {
   "cell_type": "code",
   "execution_count": 1,
   "metadata": {},
   "outputs": [],
   "source": [
    "%matplotlib inline\n",
    "from __future__ import print_function\n",
    "from ipywidgets import interact, interactive, fixed, interact_manual\n",
    "import ipywidgets as widgets\n",
    "from IPython.display import display"
   ]
  },
  {
   "cell_type": "code",
   "execution_count": 6,
   "metadata": {},
   "outputs": [],
   "source": [
    "import scipy.io\n",
    "mat = scipy.io.loadmat('C:/Users/easso/docs/tvb_dmf/output_test1/allr2_fc_set136_28905_gC.mat')\n",
    "sim_emp_corrs = mat['allr']"
   ]
  },
  {
   "cell_type": "code",
   "execution_count": 7,
   "metadata": {},
   "outputs": [],
   "source": [
    "import matplotlib.pyplot as plt"
   ]
  },
  {
   "cell_type": "code",
   "execution_count": 16,
   "metadata": {},
   "outputs": [],
   "source": [
    "mymat = np.zeros((10,10))\n",
    "def disp_tvb(x,y):\n",
    "    return x, y"
   ]
  },
  {
   "cell_type": "code",
   "execution_count": 85,
   "metadata": {},
   "outputs": [],
   "source": [
    "def tvbplot(global_coupling, noise_sigma):\n",
    "    maindir = 'C:/Users/easso/docs/tvb_dmf/output_test1/';\n",
    "    data = np.loadtxt(maindir + 'BOLD_param_set136_28905_gC_' + str(global_coupling) + '_' + str(noise_sigma) + '.txt');\n",
    "    data = data[61:,:]\n",
    "    fig = plt.figure(figsize=(10,3))\n",
    "    fig.add_subplot(1,2,1)\n",
    "    plt.plot(data)\n",
    "    plt.title('Simulated BOLD time series')\n",
    "    fig.add_subplot(1,2,2)\n",
    "    plt.imshow(np.corrcoef(data.T))\n",
    "    plt.title('Simulated Functional Connectivity')\n",
    "    plt.clim(-1,1)\n",
    "    plt.set_cmap('jet')\n",
    "    plt.colorbar()\n",
    "    plt.show();\n",
    "    "
   ]
  },
  {
   "cell_type": "code",
   "execution_count": 86,
   "metadata": {},
   "outputs": [
    {
     "data": {
      "application/vnd.jupyter.widget-view+json": {
       "model_id": "44163fdd9cd449239e88c064b54e14f5",
       "version_major": 2,
       "version_minor": 0
      },
      "text/plain": [
       "interactive(children=(IntSlider(value=5, description='global_coupling', max=10, min=1), IntSlider(value=5, des…"
      ]
     },
     "metadata": {},
     "output_type": "display_data"
    }
   ],
   "source": [
    "interact(tvbplot, global_coupling = (1,10,1), noise_sigma = (1,10,1));"
   ]
  },
  {
   "cell_type": "code",
   "execution_count": null,
   "metadata": {},
   "outputs": [],
   "source": []
  }
 ],
 "metadata": {
  "kernelspec": {
   "display_name": "Python 3",
   "language": "python",
   "name": "python3"
  },
  "language_info": {
   "codemirror_mode": {
    "name": "ipython",
    "version": 3
   },
   "file_extension": ".py",
   "mimetype": "text/x-python",
   "name": "python",
   "nbconvert_exporter": "python",
   "pygments_lexer": "ipython3",
   "version": "3.6.5"
  }
 },
 "nbformat": 4,
 "nbformat_minor": 2
}
