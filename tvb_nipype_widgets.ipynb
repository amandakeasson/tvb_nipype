{
 "cells": [
  {
   "cell_type": "code",
   "execution_count": 6,
   "metadata": {},
   "outputs": [],
   "source": [
    "%matplotlib inline\n",
    "from __future__ import print_function\n",
    "from ipywidgets import interact, interactive, fixed, interact_manual\n",
    "import ipywidgets as widgets\n",
    "from IPython.display import display\n",
    "import numpy as np"
   ]
  },
  {
   "cell_type": "code",
   "execution_count": 7,
   "metadata": {},
   "outputs": [],
   "source": [
    "import matplotlib.pyplot as plt"
   ]
  },
  {
   "cell_type": "code",
   "execution_count": 14,
   "metadata": {},
   "outputs": [],
   "source": [
    "def tvbplot(G, noise_sigma):\n",
    "    maindir = '../../tvb_dmf/output_test1/';\n",
    "    data = np.loadtxt(maindir + 'BOLD_param_set136_28886_gC_' + str(G-1) + '_' + str(noise_sigma-1) + '.txt');\n",
    "    data = data[61:,:]\n",
    "    fig = plt.figure(figsize=(10,3))\n",
    "    fig.add_subplot(1,2,1)\n",
    "    plt.plot(data)\n",
    "    plt.title('Simulated BOLD time series')\n",
    "    fig.add_subplot(1,2,2)\n",
    "    plt.imshow(np.corrcoef(data.T))\n",
    "    plt.title('Simulated Functional Connectivity')\n",
    "    plt.clim(-1,1)\n",
    "    plt.set_cmap('jet')\n",
    "    plt.colorbar()\n",
    "    plt.show();\n",
    "    "
   ]
  },
  {
   "cell_type": "code",
   "execution_count": 16,
   "metadata": {},
   "outputs": [
    {
     "data": {
      "application/vnd.jupyter.widget-view+json": {
       "model_id": "569e68c1e14b4b9f8e1f991675824415",
       "version_major": 2,
       "version_minor": 0
      },
      "text/plain": [
       "aW50ZXJhY3RpdmUoY2hpbGRyZW49KEludFNsaWRlcih2YWx1ZT0xMCwgZGVzY3JpcHRpb249dSdHJywgbWF4PTIwLCBtaW49MSksIEludFNsaWRlcih2YWx1ZT0xMCwgZGVzY3JpcHRpb249dSfigKY=\n"
      ]
     },
     "metadata": {},
     "output_type": "display_data"
    }
   ],
   "source": [
    "interact(tvbplot, G = (1,20,1), noise_sigma = (1,20,1));"
   ]
  },
  {
   "cell_type": "code",
   "execution_count": 13,
   "metadata": {},
   "outputs": [
    {
     "data": {
      "text/plain": [
       "'/mnt/c/Users/easso/docs/neurohackademy/tvb_nipype'"
      ]
     },
     "execution_count": 13,
     "metadata": {},
     "output_type": "execute_result"
    }
   ],
   "source": [
    "import os\n",
    "os.getcwd()"
   ]
  },
  {
   "cell_type": "code",
   "execution_count": null,
   "metadata": {},
   "outputs": [],
   "source": []
  }
 ],
 "metadata": {
  "kernelspec": {
   "display_name": "Python 2",
   "language": "python",
   "name": "python2"
  },
  "language_info": {
   "codemirror_mode": {
    "name": "ipython",
    "version": 2
   },
   "file_extension": ".py",
   "mimetype": "text/x-python",
   "name": "python",
   "nbconvert_exporter": "python",
   "pygments_lexer": "ipython2",
   "version": "2.7.13"
  }
 },
 "nbformat": 4,
 "nbformat_minor": 2
}
