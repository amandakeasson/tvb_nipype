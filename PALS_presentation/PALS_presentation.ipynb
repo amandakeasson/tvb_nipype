{
 "cells": [
  {
   "cell_type": "markdown",
   "metadata": {
    "slideshow": {
     "slide_type": "slide"
    }
   },
   "source": [
    " # PALS"
   ]
  },
  {
   "cell_type": "markdown",
   "metadata": {
    "slideshow": {
     "slide_type": "fragment"
    }
   },
   "source": [
    " ![PALS pipe](https://raw.githubusercontent.com/npnl/PALS/master/images/pipeline.png \"pals pipe\")"
   ]
  },
  {
   "cell_type": "markdown",
   "metadata": {
    "slideshow": {
     "slide_type": "slide"
    }
   },
   "source": [
    "## Our goals:\n",
    "Learn about and gain experience with:\n",
    "\n",
    "* nipype \n",
    "* git/github\n",
    "* Docker\n",
    "* nilearn \n",
    "* *hacking*\n",
    "\n",
    "__& HAVE MUCH FUN!!!__\n",
    "![fun fun](https://media.giphy.com/media/12JZU9RaWuEABq/giphy.gif \"fun fun\")"
   ]
  },
  {
   "cell_type": "markdown",
   "metadata": {
    "slideshow": {
     "slide_type": "slide"
    }
   },
   "source": [
    "## Neurohack Tasks:\n",
    "| Task           | Time required |Current Status | Finished | \n",
    "|----------------|---------------|---------------|----------|\n",
    "| Run PALS GUI on Docker   | > 5 hours  | finished | [x]\n",
    "| Replace PALS' BET function by a Nipype workflow | > 5 hours | finished |[x] \n",
    "| Replace PALS' WM segmentation by a Nipype workflow | 2 hours  | finished | [x] \n",
    "| Run subjects in parallel using the Multiproc plugin from Nipype |  < 1 hour  | finished | [x]\n",
    "| Incorporate ni-learn to the QC helper module   | > 5 hours  | finished | [x]\n"
   ]
  },
  {
   "cell_type": "markdown",
   "metadata": {
    "slideshow": {
     "slide_type": "slide"
    }
   },
   "source": [
    "## Dockerizing PALS -> making the GUI show up\n",
    "\n",
    "![phew](https://media.giphy.com/media/EDt1m8p5hqXG8/giphy.gif \"phew\")\n"
   ]
  },
  {
   "cell_type": "markdown",
   "metadata": {
    "slideshow": {
     "slide_type": "slide"
    }
   },
   "source": [
    "![PALS_running](Docker1.png \"PALS on Docker\")"
   ]
  },
  {
   "cell_type": "markdown",
   "metadata": {
    "slideshow": {
     "slide_type": "slide"
    }
   },
   "source": [
    "## added a README.MD file for the Docker\n",
    "![PALS_running_on_Docker](PALS_docker1.png \"PALS_running_on_Docker\")\n",
    "![PALS_running_on_Docker2](PALS_docker2.png \"PALS_running_on_Docker2\")"
   ]
  },
  {
   "cell_type": "markdown",
   "metadata": {
    "slideshow": {
     "slide_type": "slide"
    }
   },
   "source": [
    "## nipyping pals\n",
    "* turned out nipyping pals was non-trivial as it has an interactive GUI: \n",
    "\n",
    "![PALS_running](Docker2.png \"Docker2.png\")"
   ]
  },
  {
   "cell_type": "markdown",
   "metadata": {
    "slideshow": {
     "slide_type": "slide"
    }
   },
   "source": [
    "### Success with BET!\n",
    "\n",
    "![Nipyping_pals](nipyping.png \"Nipyping pals\")"
   ]
  },
  {
   "cell_type": "markdown",
   "metadata": {
    "slideshow": {
     "slide_type": "slide"
    }
   },
   "source": [
    "##  QC Helper module\n",
    "* Previously, PALS was rendering images with FSLeyes\n",
    "* Docker had issues with FSLeyes \n",
    "* We wanted to update PALS so that FSLeyes wouldn't be required\n",
    "* We also wanted to make prettier images"
   ]
  },
  {
   "cell_type": "markdown",
   "metadata": {
    "slideshow": {
     "slide_type": "slide"
    }
   },
   "source": [
    "### Before\n",
    "![QC_helper_before](QC_helper_before.png \"QC_helper before\")"
   ]
  },
  {
   "cell_type": "markdown",
   "metadata": {
    "slideshow": {
     "slide_type": "slide"
    }
   },
   "source": [
    "### After: ta-da!! \n",
    "![QC_helper_after](QC_helper_after.png \"QC_helper after\")"
   ]
  },
  {
   "cell_type": "markdown",
   "metadata": {
    "slideshow": {
     "slide_type": "slide"
    }
   },
   "source": [
    "## Future steps:\n",
    "\n",
    "![help us!](https://media.giphy.com/media/3otOKFHgcyUpqqgZ7W/giphy.gif \"help us!\")\n",
    "\n",
    "__many, many things!__\n",
    "* Optimize PALS development/testing by using JSON file to circumvent using a GUI\n",
    "* Finish incorporating Nilearn images for visual QC\n",
    "* Refactor other PALS' modules with Nipype\n",
    "* Add continuous integration testing for PALS\n",
    "* Make PALS compatible with both Python 2 and 3\n",
    "* Make PALS BIDS compatible \n",
    "* Incorporate ANTs for brain extraction and optimized registration for lesioned brains\n",
    "* For Docker: pass in input arguments as PALS input/output directories"
   ]
  },
  {
   "cell_type": "markdown",
   "metadata": {
    "slideshow": {
     "slide_type": "slide"
    }
   },
   "source": [
    "# Special thanks to \n",
    "## Michael Notter\n",
    "## the_nipype_pals\n",
    "## everyone at neurohackademy"
   ]
  },
  {
   "cell_type": "code",
   "execution_count": null,
   "metadata": {},
   "outputs": [],
   "source": []
  }
 ],
 "metadata": {
  "celltoolbar": "Slideshow",
  "kernelspec": {
   "display_name": "Python 2",
   "language": "python",
   "name": "python2"
  },
  "language_info": {
   "codemirror_mode": {
    "name": "ipython",
    "version": 2
   },
   "file_extension": ".py",
   "mimetype": "text/x-python",
   "name": "python",
   "nbconvert_exporter": "python",
   "pygments_lexer": "ipython2",
   "version": "2.7.13"
  }
 },
 "nbformat": 4,
 "nbformat_minor": 2
}
